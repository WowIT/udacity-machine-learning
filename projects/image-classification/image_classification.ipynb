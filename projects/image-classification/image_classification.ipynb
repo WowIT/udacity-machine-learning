{
 "cells": [
  {
   "cell_type": "markdown",
   "metadata": {
    "collapsed": true
   },
   "source": [
    "# Image Classification\n",
    "In this project, you'll classify images from the [CIFAR-10 dataset](https://www.cs.toronto.edu/~kriz/cifar.html).  The dataset consists of airplanes, dogs, cats, and other objects. You'll preprocess the images, then train a convolutional neural network on all the samples. The images need to be normalized and the labels need to be one-hot encoded.  You'll get to apply what you learned and build a convolutional, max pooling, dropout, and fully connected layers.  At the end, you'll get to see your neural network's predictions on the sample images.\n",
    "## Get the Data\n",
    "Run the following cell to download the [CIFAR-10 dataset for python](https://www.cs.toronto.edu/~kriz/cifar-10-python.tar.gz)."
   ]
  },
  {
   "cell_type": "code",
   "execution_count": 1,
   "metadata": {},
   "outputs": [
    {
     "name": "stdout",
     "output_type": "stream",
     "text": [
      "All files found!\n"
     ]
    }
   ],
   "source": [
    "\"\"\"\n",
    "DON'T MODIFY ANYTHING IN THIS CELL THAT IS BELOW THIS LINE\n",
    "\"\"\"\n",
    "from urllib.request import urlretrieve\n",
    "from os.path import isfile, isdir\n",
    "from tqdm import tqdm\n",
    "import problem_unittests as tests\n",
    "import tarfile\n",
    "\n",
    "cifar10_dataset_folder_path = 'cifar-10-batches-py'\n",
    "\n",
    "class DLProgress(tqdm):\n",
    "    last_block = 0\n",
    "\n",
    "    def hook(self, block_num=1, block_size=1, total_size=None):\n",
    "        self.total = total_size\n",
    "        self.update((block_num - self.last_block) * block_size)\n",
    "        self.last_block = block_num\n",
    "\n",
    "if not isfile('cifar-10-python.tar.gz'):\n",
    "    with DLProgress(unit='B', unit_scale=True, miniters=1, desc='CIFAR-10 Dataset') as pbar:\n",
    "        urlretrieve(\n",
    "            'https://www.cs.toronto.edu/~kriz/cifar-10-python.tar.gz',\n",
    "            'cifar-10-python.tar.gz',\n",
    "            pbar.hook)\n",
    "\n",
    "if not isdir(cifar10_dataset_folder_path):\n",
    "    with tarfile.open('cifar-10-python.tar.gz') as tar:\n",
    "        tar.extractall()\n",
    "        tar.close()\n",
    "\n",
    "\n",
    "tests.test_folder_path(cifar10_dataset_folder_path)"
   ]
  },
  {
   "cell_type": "markdown",
   "metadata": {},
   "source": [
    "## Explore the Data\n",
    "The dataset is broken into batches to prevent your machine from running out of memory.  The CIFAR-10 dataset consists of 5 batches, named `data_batch_1`, `data_batch_2`, etc.. Each batch contains the labels and images that are one of the following:\n",
    "* airplane\n",
    "* automobile\n",
    "* bird\n",
    "* cat\n",
    "* deer\n",
    "* dog\n",
    "* frog\n",
    "* horse\n",
    "* ship\n",
    "* truck\n",
    "\n",
    "Understanding a dataset is part of making predictions on the data.  Play around with the code cell below by changing the `batch_id` and `sample_id`. The `batch_id` is the id for a batch (1-5). The `sample_id` is the id for a image and label pair in the batch.\n",
    "\n",
    "Ask yourself \"What are all possible labels?\", \"What is the range of values for the image data?\", \"Are the labels in order or random?\".  Answers to questions like these will help you preprocess the data and end up with better predictions."
   ]
  },
  {
   "cell_type": "code",
   "execution_count": 2,
   "metadata": {},
   "outputs": [
    {
     "name": "stdout",
     "output_type": "stream",
     "text": [
      "\n",
      "Stats of batch 1:\n",
      "Samples: 10000\n",
      "Label Counts: {0: 1005, 1: 974, 2: 1032, 3: 1016, 4: 999, 5: 937, 6: 1030, 7: 1001, 8: 1025, 9: 981}\n",
      "First 20 Labels: [6, 9, 9, 4, 1, 1, 2, 7, 8, 3, 4, 7, 7, 2, 9, 9, 9, 3, 2, 6]\n",
      "\n",
      "Example of Image 5:\n",
      "Image - Min Value: 0 Max Value: 252\n",
      "Image - Shape: (32, 32, 3)\n",
      "Label - Label Id: 1 Name: automobile\n"
     ]
    },
    {
     "data": {
      "image/png": "[encoded data removed]",
      "text/plain": [
       "<Figure size 432x288 with 1 Axes>"
      ]
     },
     "metadata": {
      "image/png": {
       "height": 248,
       "width": 251
      },
      "needs_background": "light"
     },
     "output_type": "display_data"
    }
   ],
   "source": [
    "%matplotlib inline\n",
    "%config InlineBackend.figure_format = 'retina'\n",
    "\n",
    "import helper\n",
    "import numpy as np\n",
    "\n",
    "# Explore the dataset\n",
    "batch_id = 1\n",
    "sample_id = 5\n",
    "helper.display_stats(cifar10_dataset_folder_path, batch_id, sample_id)"
   ]
  },
  {
   "cell_type": "markdown",
   "metadata": {},
   "source": [
    "## Implement Preprocess Functions\n",
    "### Normalize\n",
    "In the cell below, implement the `normalize` function to take in image data, `x`, and return it as a normalized Numpy array. The values should be in the range of 0 to 1, inclusive.  The return object should be the same shape as `x`."
   ]
  },
  {
   "cell_type": "code",
   "execution_count": 3,
   "metadata": {},
   "outputs": [
    {
     "name": "stdout",
     "output_type": "stream",
     "text": [
      "Tests Passed\n"
     ]
    }
   ],
   "source": [
    "def normalize(x):\n",
    "    \"\"\"\n",
    "    Normalize a list of sample image data in the range of 0 to 1\n",
    "    : x: List of image data.  The image shape is (32, 32, 3)\n",
    "    : return: Numpy array of normalize data\n",
    "    \"\"\"\n",
    "    # TODO: Implement Function\n",
    "    return x.astype('float32')/255\n",
    "\n",
    "\n",
    "\"\"\"\n",
    "DON'T MODIFY ANYTHING IN THIS CELL THAT IS BELOW THIS LINE\n",
    "\"\"\"\n",
    "tests.test_normalize(normalize)"
   ]
  },
  {
   "cell_type": "markdown",
   "metadata": {},
   "source": [
    "### One-hot encode\n",
    "Just like the previous code cell, you'll be implementing a function for preprocessing.  This time, you'll implement the `one_hot_encode` function. The input, `x`, are a list of labels.  Implement the function to return the list of labels as One-Hot encoded Numpy array.  The possible values for labels are 0 to 9. The one-hot encoding function should return the same encoding for each value between each call to `one_hot_encode`.  Make sure to save the map of encodings outside the function.\n",
    "\n",
    "**Hint:**\n",
    "\n",
    "Look into LabelBinarizer in the preprocessing module of sklearn."
   ]
  },
  {
   "cell_type": "code",
   "execution_count": 4,
   "metadata": {},
   "outputs": [
    {
     "name": "stdout",
     "output_type": "stream",
     "text": [
      "Tests Passed\n"
     ]
    }
   ],
   "source": [
    "from sklearn.preprocessing import LabelBinarizer\n",
    "\n",
    "labelBinarizer = LabelBinarizer().fit(range(10))\n",
    "\n",
    "def one_hot_encode(x):\n",
    "    \"\"\"\n",
    "    One hot encode a list of sample labels. Return a one-hot encoded vector for each label.\n",
    "    : x: List of sample Labels\n",
    "    : return: Numpy array of one-hot encoded labels\n",
    "    \"\"\"\n",
    "    # TODO: Implement Function\n",
    "    return labelBinarizer.transform(x)\n",
    "\n",
    "\n",
    "\"\"\"\n",
    "DON'T MODIFY ANYTHING IN THIS CELL THAT IS BELOW THIS LINE\n",
    "\"\"\"\n",
    "tests.test_one_hot_encode(one_hot_encode)"
   ]
  },
  {
   "cell_type": "markdown",
   "metadata": {},
   "source": [
    "### Randomize Data\n",
    "As you saw from exploring the data above, the order of the samples are randomized.  It doesn't hurt to randomize it again, but you don't need to for this dataset."
   ]
  },
  {
   "cell_type": "markdown",
   "metadata": {},
   "source": [
    "## Preprocess all the data and save it\n",
    "Running the code cell below will preprocess all the CIFAR-10 data and save it to file. The code below also uses 10% of the training data for validation."
   ]
  },
  {
   "cell_type": "code",
   "execution_count": 5,
   "metadata": {},
   "outputs": [],
   "source": [
    "\"\"\"\n",
    "DON'T MODIFY ANYTHING IN THIS CELL\n",
    "\"\"\"\n",
    "# Preprocess Training, Validation, and Testing Data\n",
    "helper.preprocess_and_save_data(cifar10_dataset_folder_path, normalize, one_hot_encode)"
   ]
  },
  {
   "cell_type": "markdown",
   "metadata": {},
   "source": [
    "# Check Point\n",
    "This is your first checkpoint.  If you ever decide to come back to this notebook or have to restart the notebook, you can start from here.  The preprocessed data has been saved to disk."
   ]
  },
  {
   "cell_type": "code",
   "execution_count": 6,
   "metadata": {},
   "outputs": [],
   "source": [
    "\"\"\"\n",
    "DON'T MODIFY ANYTHING IN THIS CELL\n",
    "\"\"\"\n",
    "import pickle\n",
    "import problem_unittests as tests\n",
    "import helper\n",
    "\n",
    "# Load the Preprocessed Validation data\n",
    "valid_features, valid_labels = pickle.load(open('preprocess_validation.p', mode='rb'))"
   ]
  },
  {
   "cell_type": "markdown",
   "metadata": {},
   "source": [
    "## Build the network\n",
    "For the neural network, you'll build each layer into a function.  Most of the code you've seen has been outside of functions. To test your code more thoroughly, we require that you put each layer in a function.  This allows us to give you better feedback and test for simple mistakes using our unittests before you submit your project.\n",
    "\n",
    ">**Note:** If you're finding it hard to dedicate enough time for this course each week, we've provided a small shortcut to this part of the project. In the next couple of problems, you'll have the option to use classes from the [TensorFlow Layers](https://www.tensorflow.org/api_docs/python/tf/layers) or [TensorFlow Layers (contrib)](https://www.tensorflow.org/api_guides/python/contrib.layers) packages to build each layer, except the layers you build in the \"Convolutional and Max Pooling Layer\" section.  TF Layers is similar to Keras's and TFLearn's abstraction to layers, so it's easy to pickup.\n",
    "\n",
    ">However, if you would like to get the most out of this course, try to solve all the problems _without_ using anything from the TF Layers packages. You **can** still use classes from other packages that happen to have the same name as ones you find in TF Layers! For example, instead of using the TF Layers version of the `conv2d` class, [tf.layers.conv2d](https://www.tensorflow.org/api_docs/python/tf/layers/conv2d), you would want to use the TF Neural Network version of `conv2d`, [tf.nn.conv2d](https://www.tensorflow.org/api_docs/python/tf/nn/conv2d). \n",
    "\n",
    "Let's begin!\n",
    "\n",
    "### Input\n",
    "The neural network needs to read the image data, one-hot encoded labels, and dropout keep probability. Implement the following functions\n",
    "* Implement `neural_net_image_input`\n",
    " * Return a [TF Placeholder](https://www.tensorflow.org/api_docs/python/tf/placeholder)\n",
    " * Set the shape using `image_shape` with batch size set to `None`.\n",
    " * Name the TensorFlow placeholder \"x\" using the TensorFlow `name` parameter in the [TF Placeholder](https://www.tensorflow.org/api_docs/python/tf/placeholder).\n",
    "* Implement `neural_net_label_input`\n",
    " * Return a [TF Placeholder](https://www.tensorflow.org/api_docs/python/tf/placeholder)\n",
    " * Set the shape using `n_classes` with batch size set to `None`.\n",
    " * Name the TensorFlow placeholder \"y\" using the TensorFlow `name` parameter in the [TF Placeholder](https://www.tensorflow.org/api_docs/python/tf/placeholder).\n",
    "* Implement `neural_net_keep_prob_input`\n",
    " * Return a [TF Placeholder](https://www.tensorflow.org/api_docs/python/tf/placeholder) for dropout keep probability.\n",
    " * Name the TensorFlow placeholder \"keep_prob\" using the TensorFlow `name` parameter in the [TF Placeholder](https://www.tensorflow.org/api_docs/python/tf/placeholder).\n",
    "\n",
    "These names will be used at the end of the project to load your saved model.\n",
    "\n",
    "Note: `None` for shapes in TensorFlow allow for a dynamic size."
   ]
  },
  {
   "cell_type": "code",
   "execution_count": 7,
   "metadata": {},
   "outputs": [
    {
     "name": "stdout",
     "output_type": "stream",
     "text": [
      "Image Input Tests Passed.\n",
      "Label Input Tests Passed.\n",
      "Keep Prob Tests Passed.\n"
     ]
    }
   ],
   "source": [
    "import tensorflow as tf\n",
    "\n",
    "def neural_net_image_input(image_shape):\n",
    "    \"\"\"\n",
    "    Return a Tensor for a batch of image input\n",
    "    : image_shape: Shape of the images\n",
    "    : return: Tensor for image input.\n",
    "    \"\"\"\n",
    "    # TODO: Implement Function\n",
    "    return tf.placeholder(tf.float32, [None] + list(image_shape), \"x\")\n",
    "\n",
    "\n",
    "def neural_net_label_input(n_classes):\n",
    "    \"\"\"\n",
    "    Return a Tensor for a batch of label input\n",
    "    : n_classes: Number of classes\n",
    "    : return: Tensor for label input.\n",
    "    \"\"\"\n",
    "    # TODO: Implement Function\n",
    "    return tf.placeholder(tf.float32, [None, n_classes], \"y\")\n",
    "\n",
    "\n",
    "def neural_net_keep_prob_input():\n",
    "    \"\"\"\n",
    "    Return a Tensor for keep probability\n",
    "    : return: Tensor for keep probability.\n",
    "    \"\"\"\n",
    "    # TODO: Implement Function\n",
    "    return tf.placeholder(tf.float32, None, \"keep_prob\")\n",
    "\n",
    "\n",
    "\"\"\"\n",
    "DON'T MODIFY ANYTHING IN THIS CELL THAT IS BELOW THIS LINE\n",
    "\"\"\"\n",
    "tf.reset_default_graph()\n",
    "tests.test_nn_image_inputs(neural_net_image_input)\n",
    "tests.test_nn_label_inputs(neural_net_label_input)\n",
    "tests.test_nn_keep_prob_inputs(neural_net_keep_prob_input)"
   ]
  },
  {
   "cell_type": "markdown",
   "metadata": {},
   "source": [
    "### Convolution and Max Pooling Layer\n",
    "Convolution layers have a lot of success with images. For this code cell, you should implement the function `conv2d_maxpool` to apply convolution then max pooling:\n",
    "* Create the weight and bias using `conv_ksize`, `conv_num_outputs` and the shape of `x_tensor`.\n",
    "* Apply a convolution to `x_tensor` using weight and `conv_strides`.\n",
    " * We recommend you use same padding, but you're welcome to use any padding.\n",
    "* Add bias\n",
    "* Add a nonlinear activation to the convolution.\n",
    "* Apply Max Pooling using `pool_ksize` and `pool_strides`.\n",
    " * We recommend you use same padding, but you're welcome to use any padding.\n",
    "\n",
    "**Note:** You **can't** use [TensorFlow Layers](https://www.tensorflow.org/api_docs/python/tf/layers) or [TensorFlow Layers (contrib)](https://www.tensorflow.org/api_guides/python/contrib.layers) for **this** layer, but you can still use TensorFlow's [Neural Network](https://www.tensorflow.org/api_docs/python/tf/nn) package. You may still use the shortcut option for all the **other** layers.\n",
    "\n",
    "** Hint: **\n",
    "\n",
    "When unpacking values as an argument in Python, look into the [unpacking](https://docs.python.org/3/tutorial/controlflow.html#unpacking-argument-lists) operator. "
   ]
  },
  {
   "cell_type": "code",
   "execution_count": 8,
   "metadata": {},
   "outputs": [
    {
     "name": "stdout",
     "output_type": "stream",
     "text": [
      "Tests Passed\n"
     ]
    }
   ],
   "source": [
    "def conv2d_maxpool(x_tensor, conv_num_outputs, conv_ksize, conv_strides, pool_ksize, pool_strides):\n",
    "    \"\"\"\n",
    "    Apply convolution then max pooling to x_tensor\n",
    "    :param x_tensor: TensorFlow Tensor\n",
    "    :param conv_num_outputs: Number of outputs for the convolutional layer\n",
    "    :param conv_ksize: kernal size 2-D Tuple for the convolutional layer\n",
    "    :param conv_strides: Stride 2-D Tuple for convolution\n",
    "    :param pool_ksize: kernal size 2-D Tuple for pool\n",
    "    :param pool_strides: Stride 2-D Tuple for pool\n",
    "    : return: A tensor that represents convolution and max pooling of x_tensor\n",
    "    \"\"\"\n",
    "    # TODO: Implement Function\n",
    "    shape = x_tensor.get_shape().as_list()\n",
    "    \n",
    "    weight = tf.Variable(tf.truncated_normal(\n",
    "        [conv_ksize[0], conv_ksize[1], shape[-1], conv_num_outputs],\n",
    "        stddev = 0.1))\n",
    "    \n",
    "    bias = tf.Variable(tf.zeros(conv_num_outputs))\n",
    "    \n",
    "    layer = tf.nn.conv2d(\n",
    "        x_tensor, \n",
    "        weight, \n",
    "        [1, conv_strides[0], conv_strides[1], 1], \n",
    "        'SAME')\n",
    "    \n",
    "    layer = tf.nn.bias_add(layer, bias)\n",
    "    layer = tf.contrib.layers.batch_norm(layer, center=True, scale=True)\n",
    "    layer = tf.nn.relu(layer)\n",
    "    \n",
    "    layer = tf.nn.max_pool(\n",
    "        layer,\n",
    "        [1, pool_ksize[0], pool_ksize[1], 1],\n",
    "        [1, pool_strides[0], pool_strides[1], 1],\n",
    "        'SAME')\n",
    "    \n",
    "    return layer \n",
    "\n",
    "\n",
    "\"\"\"\n",
    "DON'T MODIFY ANYTHING IN THIS CELL THAT IS BELOW THIS LINE\n",
    "\"\"\"\n",
    "tests.test_con_pool(conv2d_maxpool)"
   ]
  },
  {
   "cell_type": "markdown",
   "metadata": {},
   "source": [
    "### Flatten Layer\n",
    "Implement the `flatten` function to change the dimension of `x_tensor` from a 4-D tensor to a 2-D tensor.  The output should be the shape (*Batch Size*, *Flattened Image Size*). Shortcut option: you can use classes from the [TensorFlow Layers](https://www.tensorflow.org/api_docs/python/tf/layers) or [TensorFlow Layers (contrib)](https://www.tensorflow.org/api_guides/python/contrib.layers) packages for this layer. For more of a challenge, only use other TensorFlow packages."
   ]
  },
  {
   "cell_type": "code",
   "execution_count": 9,
   "metadata": {},
   "outputs": [
    {
     "name": "stdout",
     "output_type": "stream",
     "text": [
      "Tests Passed\n"
     ]
    }
   ],
   "source": [
    "def flatten(x_tensor):\n",
    "    \"\"\"\n",
    "    Flatten x_tensor to (Batch Size, Flattened Image Size)\n",
    "    : x_tensor: A tensor of size (Batch Size, ...), where ... are the image dimensions.\n",
    "    : return: A tensor of size (Batch Size, Flattened Image Size).\n",
    "    \"\"\"\n",
    "    # TODO: Implement Function\n",
    "    shape = x_tensor.get_shape().as_list()\n",
    "    return tf.reshape(x_tensor, [-1, shape[1] * shape[2] * shape[3]])\n",
    "\n",
    "\n",
    "\"\"\"\n",
    "DON'T MODIFY ANYTHING IN THIS CELL THAT IS BELOW THIS LINE\n",
    "\"\"\"\n",
    "tests.test_flatten(flatten)"
   ]
  },
  {
   "cell_type": "markdown",
   "metadata": {},
   "source": [
    "### Fully-Connected Layer\n",
    "Implement the `fully_conn` function to apply a fully connected layer to `x_tensor` with the shape (*Batch Size*, *num_outputs*). Shortcut option: you can use classes from the [TensorFlow Layers](https://www.tensorflow.org/api_docs/python/tf/layers) or [TensorFlow Layers (contrib)](https://www.tensorflow.org/api_guides/python/contrib.layers) packages for this layer. For more of a challenge, only use other TensorFlow packages."
   ]
  },
  {
   "cell_type": "code",
   "execution_count": 10,
   "metadata": {},
   "outputs": [
    {
     "name": "stdout",
     "output_type": "stream",
     "text": [
      "Tests Passed\n"
     ]
    }
   ],
   "source": [
    "def fully_conn(x_tensor, num_outputs):\n",
    "    \"\"\"\n",
    "    Apply a fully connected layer to x_tensor using weight and bias\n",
    "    : x_tensor: A 2-D tensor where the first dimension is batch size.\n",
    "    : num_outputs: The number of output that the new tensor should be.\n",
    "    : return: A 2-D tensor where the second dimension is num_outputs.\n",
    "    \"\"\"\n",
    "    # TODO: Implement Function\n",
    "    shape = x_tensor.get_shape().as_list()\n",
    "    \n",
    "    weight = tf.Variable(tf.truncated_normal(\n",
    "        [shape[-1], num_outputs], \n",
    "        stddev = 0.1))\n",
    "    \n",
    "    bias = tf.Variable(tf.zeros(num_outputs))\n",
    "    \n",
    "    layer = tf.matmul(x_tensor, weight)\n",
    "    layer = tf.add(layer, bias)\n",
    "    layer = tf.nn.relu(layer)\n",
    "\n",
    "    return layer\n",
    "\n",
    "\n",
    "\"\"\"\n",
    "DON'T MODIFY ANYTHING IN THIS CELL THAT IS BELOW THIS LINE\n",
    "\"\"\"\n",
    "tests.test_fully_conn(fully_conn)"
   ]
  },
  {
   "cell_type": "markdown",
   "metadata": {},
   "source": [
    "### Output Layer\n",
    "Implement the `output` function to apply a fully connected layer to `x_tensor` with the shape (*Batch Size*, *num_outputs*). Shortcut option: you can use classes from the [TensorFlow Layers](https://www.tensorflow.org/api_docs/python/tf/layers) or [TensorFlow Layers (contrib)](https://www.tensorflow.org/api_guides/python/contrib.layers) packages for this layer. For more of a challenge, only use other TensorFlow packages.\n",
    "\n",
    "**Note:** Activation, softmax, or cross entropy should **not** be applied to this."
   ]
  },
  {
   "cell_type": "code",
   "execution_count": 11,
   "metadata": {},
   "outputs": [
    {
     "name": "stdout",
     "output_type": "stream",
     "text": [
      "Tests Passed\n"
     ]
    }
   ],
   "source": [
    "def output(x_tensor, num_outputs):\n",
    "    \"\"\"\n",
    "    Apply a output layer to x_tensor using weight and bias\n",
    "    : x_tensor: A 2-D tensor where the first dimension is batch size.\n",
    "    : num_outputs: The number of output that the new tensor should be.\n",
    "    : return: A 2-D tensor where the second dimension is num_outputs.\n",
    "    \"\"\"\n",
    "    # TODO: Implement Function\n",
    "    shape = x_tensor.get_shape().as_list()\n",
    "    \n",
    "    weight = tf.Variable(tf.truncated_normal(\n",
    "        [shape[-1], num_outputs], \n",
    "        stddev = 0.1))\n",
    "    \n",
    "    bias = tf.Variable(tf.zeros(num_outputs))\n",
    "    \n",
    "    layer = tf.matmul(x_tensor, weight)\n",
    "    layer = tf.add(layer, bias)\n",
    "\n",
    "    return layer\n",
    "\n",
    "\n",
    "\"\"\"\n",
    "DON'T MODIFY ANYTHING IN THIS CELL THAT IS BELOW THIS LINE\n",
    "\"\"\"\n",
    "tests.test_output(output)"
   ]
  },
  {
   "cell_type": "markdown",
   "metadata": {},
   "source": [
    "### Create Convolutional Model\n",
    "Implement the function `conv_net` to create a convolutional neural network model. The function takes in a batch of images, `x`, and outputs logits.  Use the layers you created above to create this model:\n",
    "\n",
    "* Apply 1, 2, or 3 Convolution and Max Pool layers\n",
    "* Apply a Flatten Layer\n",
    "* Apply 1, 2, or 3 Fully Connected Layers\n",
    "* Apply an Output Layer\n",
    "* Return the output\n",
    "* Apply [TensorFlow's Dropout](https://www.tensorflow.org/api_docs/python/tf/nn/dropout) to one or more layers in the model using `keep_prob`. "
   ]
  },
  {
   "cell_type": "code",
   "execution_count": 12,
   "metadata": {},
   "outputs": [
    {
     "name": "stdout",
     "output_type": "stream",
     "text": [
      "Neural Network Built!\n"
     ]
    }
   ],
   "source": [
    "def conv_net(x, keep_prob):\n",
    "    \"\"\"\n",
    "    Create a convolutional neural network model\n",
    "    : x: Placeholder tensor that holds image data.\n",
    "    : keep_prob: Placeholder tensor that hold dropout keep probability.\n",
    "    : return: Tensor that represents logits\n",
    "    \"\"\"\n",
    "    # TODO: Apply 1, 2, or 3 Convolution and Max Pool layers\n",
    "    #    Play around with different number of outputs, kernel size and stride\n",
    "    # Function Definition from Above:\n",
    "    #    conv2d_maxpool(x_tensor, conv_num_outputs, conv_ksize, conv_strides, pool_ksize, pool_strides)\n",
    "    conv_ksize = [5, 5]\n",
    "    conv_strides = [1, 1]\n",
    "    pool_ksize = [3, 3]\n",
    "    pool_strides = [2, 2]\n",
    "    \n",
    "    layer = conv2d_maxpool(x, 32, conv_ksize, conv_strides, pool_ksize, pool_strides)\n",
    "    layer = conv2d_maxpool(layer, 64, conv_ksize, conv_strides, pool_ksize, pool_strides)\n",
    "    layer = conv2d_maxpool(layer, 128, conv_ksize, conv_strides, pool_ksize, pool_strides)  \n",
    "\n",
    "    # TODO: Apply a Flatten Layer\n",
    "    # Function Definition from Above:\n",
    "    #   flatten(x_tensor)\n",
    "    layer = flatten(layer)    \n",
    "\n",
    "    # TODO: Apply 1, 2, or 3 Fully Connected Layers\n",
    "    #    Play around with different number of outputs\n",
    "    # Function Definition from Above:\n",
    "    #   fully_conn(x_tensor, num_outputs)\n",
    "    layer = fully_conn(layer, 400)\n",
    "    layer = tf.nn.dropout(layer, keep_prob)\n",
    "\n",
    "    layer = fully_conn(layer, 100)\n",
    "    layer = tf.nn.dropout(layer, keep_prob)    \n",
    "    \n",
    "    # TODO: Apply an Output Layer\n",
    "    #    Set this to the number of classes\n",
    "    # Function Definition from Above:\n",
    "    #   output(x_tensor, num_outputs)\n",
    "    layer = output(layer, 10)\n",
    "    \n",
    "    # TODO: return output\n",
    "    return layer\n",
    "\n",
    "\n",
    "\"\"\"\n",
    "DON'T MODIFY ANYTHING IN THIS CELL THAT IS BELOW THIS LINE\n",
    "\"\"\"\n",
    "\n",
    "##############################\n",
    "## Build the Neural Network ##\n",
    "##############################\n",
    "\n",
    "# Remove previous weights, bias, inputs, etc..\n",
    "tf.reset_default_graph()\n",
    "\n",
    "# Inputs\n",
    "x = neural_net_image_input((32, 32, 3))\n",
    "y = neural_net_label_input(10)\n",
    "keep_prob = neural_net_keep_prob_input()\n",
    "\n",
    "# Model\n",
    "logits = conv_net(x, keep_prob)\n",
    "\n",
    "# Name logits Tensor, so that is can be loaded from disk after training\n",
    "logits = tf.identity(logits, name='logits')\n",
    "\n",
    "# Loss and Optimizer\n",
    "cost = tf.reduce_mean(tf.nn.softmax_cross_entropy_with_logits_v2(logits=logits, labels=y))\n",
    "optimizer = tf.train.AdamOptimizer().minimize(cost)\n",
    "\n",
    "# Accuracy\n",
    "correct_pred = tf.equal(tf.argmax(logits, 1), tf.argmax(y, 1))\n",
    "accuracy = tf.reduce_mean(tf.cast(correct_pred, tf.float32), name='accuracy')\n",
    "\n",
    "tests.test_conv_net(conv_net)"
   ]
  },
  {
   "cell_type": "markdown",
   "metadata": {},
   "source": [
    "## Train the Neural Network\n",
    "### Single Optimization\n",
    "Implement the function `train_neural_network` to do a single optimization.  The optimization should use `optimizer` to optimize in `session` with a `feed_dict` of the following:\n",
    "* `x` for image input\n",
    "* `y` for labels\n",
    "* `keep_prob` for keep probability for dropout\n",
    "\n",
    "This function will be called for each batch, so `tf.global_variables_initializer()` has already been called.\n",
    "\n",
    "Note: Nothing needs to be returned. This function is only optimizing the neural network."
   ]
  },
  {
   "cell_type": "code",
   "execution_count": 13,
   "metadata": {},
   "outputs": [
    {
     "name": "stdout",
     "output_type": "stream",
     "text": [
      "Tests Passed\n"
     ]
    }
   ],
   "source": [
    "def train_neural_network(session, optimizer, keep_probability, feature_batch, label_batch):\n",
    "    \"\"\"\n",
    "    Optimize the session on a batch of images and labels\n",
    "    : session: Current TensorFlow session\n",
    "    : optimizer: TensorFlow optimizer function\n",
    "    : keep_probability: keep probability\n",
    "    : feature_batch: Batch of Numpy image data\n",
    "    : label_batch: Batch of Numpy label data\n",
    "    \"\"\"\n",
    "    # TODO: Implement Function\n",
    "    session.run(optimizer, feed_dict = {\n",
    "        x: feature_batch, \n",
    "        y: label_batch, \n",
    "        keep_prob: keep_probability})\n",
    "\n",
    "\n",
    "\"\"\"\n",
    "DON'T MODIFY ANYTHING IN THIS CELL THAT IS BELOW THIS LINE\n",
    "\"\"\"\n",
    "tests.test_train_nn(train_neural_network)"
   ]
  },
  {
   "cell_type": "markdown",
   "metadata": {},
   "source": [
    "### Show Stats\n",
    "Implement the function `print_stats` to print loss and validation accuracy.  Use the global variables `valid_features` and `valid_labels` to calculate validation accuracy.  Use a keep probability of `1.0` to calculate the loss and validation accuracy."
   ]
  },
  {
   "cell_type": "code",
   "execution_count": 14,
   "metadata": {},
   "outputs": [],
   "source": [
    "def print_stats(session, feature_batch, label_batch, cost, accuracy):\n",
    "    \"\"\"\n",
    "    Print information about loss and validation accuracy\n",
    "    : session: Current TensorFlow session\n",
    "    : feature_batch: Batch of Numpy image data\n",
    "    : label_batch: Batch of Numpy label data\n",
    "    : cost: TensorFlow cost function\n",
    "    : accuracy: TensorFlow accuracy function\n",
    "    \"\"\"\n",
    "    # TODO: Implement Function\n",
    "    loss = session.run(cost, feed_dict = {\n",
    "        x: feature_batch, \n",
    "        y: label_batch, \n",
    "        keep_prob: 1.0})\n",
    "    \n",
    "    accuracy = session.run(accuracy, feed_dict = {\n",
    "        x: valid_features, \n",
    "        y: valid_labels, \n",
    "        keep_prob: 1.0})\n",
    "    \n",
    "    print('Loss: {:.4f},  Validation Accuracy: {:.4f}'.format(loss, accuracy))"
   ]
  },
  {
   "cell_type": "markdown",
   "metadata": {},
   "source": [
    "### Hyperparameters\n",
    "Tune the following parameters:\n",
    "* Set `epochs` to the number of iterations until the network stops learning or start overfitting\n",
    "* Set `batch_size` to the highest number that your machine has memory for.  Most people set them to common sizes of memory:\n",
    " * 64\n",
    " * 128\n",
    " * 256\n",
    " * ...\n",
    "* Set `keep_probability` to the probability of keeping a node using dropout"
   ]
  },
  {
   "cell_type": "code",
   "execution_count": 15,
   "metadata": {},
   "outputs": [],
   "source": [
    "# TODO: Tune Parameters\n",
    "epochs = 30\n",
    "batch_size = 512\n",
    "keep_probability = 0.5"
   ]
  },
  {
   "cell_type": "markdown",
   "metadata": {},
   "source": [
    "### Train on a Single CIFAR-10 Batch\n",
    "Instead of training the neural network on all the CIFAR-10 batches of data, let's use a single batch. This should save time while you iterate on the model to get a better accuracy.  Once the final validation accuracy is 50% or greater, run the model on all the data in the next section."
   ]
  },
  {
   "cell_type": "code",
   "execution_count": 16,
   "metadata": {},
   "outputs": [
    {
     "name": "stdout",
     "output_type": "stream",
     "text": [
      "Checking the Training on a Single Batch...\n",
      "Epoch  1, CIFAR-10 Batch 1:  Loss: 2.1995,  Validation Accuracy: 0.2356\n",
      "Epoch  2, CIFAR-10 Batch 1:  Loss: 2.0536,  Validation Accuracy: 0.2876\n",
      "Epoch  3, CIFAR-10 Batch 1:  Loss: 1.9564,  Validation Accuracy: 0.3292\n",
      "Epoch  4, CIFAR-10 Batch 1:  Loss: 1.9033,  Validation Accuracy: 0.3506\n",
      "Epoch  5, CIFAR-10 Batch 1:  Loss: 1.8186,  Validation Accuracy: 0.3842\n",
      "Epoch  6, CIFAR-10 Batch 1:  Loss: 1.7541,  Validation Accuracy: 0.4072\n",
      "Epoch  7, CIFAR-10 Batch 1:  Loss: 1.6788,  Validation Accuracy: 0.4168\n",
      "Epoch  8, CIFAR-10 Batch 1:  Loss: 1.6084,  Validation Accuracy: 0.4460\n",
      "Epoch  9, CIFAR-10 Batch 1:  Loss: 1.4928,  Validation Accuracy: 0.4642\n",
      "Epoch 10, CIFAR-10 Batch 1:  Loss: 1.4711,  Validation Accuracy: 0.4682\n",
      "Epoch 11, CIFAR-10 Batch 1:  Loss: 1.4094,  Validation Accuracy: 0.4812\n",
      "Epoch 12, CIFAR-10 Batch 1:  Loss: 1.3613,  Validation Accuracy: 0.4942\n",
      "Epoch 13, CIFAR-10 Batch 1:  Loss: 1.3171,  Validation Accuracy: 0.5050\n",
      "Epoch 14, CIFAR-10 Batch 1:  Loss: 1.2551,  Validation Accuracy: 0.5058\n",
      "Epoch 15, CIFAR-10 Batch 1:  Loss: 1.2123,  Validation Accuracy: 0.5252\n",
      "Epoch 16, CIFAR-10 Batch 1:  Loss: 1.1502,  Validation Accuracy: 0.5308\n",
      "Epoch 17, CIFAR-10 Batch 1:  Loss: 1.1159,  Validation Accuracy: 0.5322\n",
      "Epoch 18, CIFAR-10 Batch 1:  Loss: 1.1043,  Validation Accuracy: 0.5480\n",
      "Epoch 19, CIFAR-10 Batch 1:  Loss: 1.0373,  Validation Accuracy: 0.5570\n",
      "Epoch 20, CIFAR-10 Batch 1:  Loss: 0.9898,  Validation Accuracy: 0.5674\n",
      "Epoch 21, CIFAR-10 Batch 1:  Loss: 0.9493,  Validation Accuracy: 0.5754\n",
      "Epoch 22, CIFAR-10 Batch 1:  Loss: 0.9074,  Validation Accuracy: 0.5794\n",
      "Epoch 23, CIFAR-10 Batch 1:  Loss: 0.8747,  Validation Accuracy: 0.5792\n",
      "Epoch 24, CIFAR-10 Batch 1:  Loss: 0.8375,  Validation Accuracy: 0.5782\n",
      "Epoch 25, CIFAR-10 Batch 1:  Loss: 0.7954,  Validation Accuracy: 0.5888\n",
      "Epoch 26, CIFAR-10 Batch 1:  Loss: 0.7870,  Validation Accuracy: 0.5808\n",
      "Epoch 27, CIFAR-10 Batch 1:  Loss: 0.7621,  Validation Accuracy: 0.5940\n",
      "Epoch 28, CIFAR-10 Batch 1:  Loss: 0.7069,  Validation Accuracy: 0.6024\n",
      "Epoch 29, CIFAR-10 Batch 1:  Loss: 0.7047,  Validation Accuracy: 0.5986\n",
      "Epoch 30, CIFAR-10 Batch 1:  Loss: 0.6239,  Validation Accuracy: 0.6004\n"
     ]
    }
   ],
   "source": [
    "\"\"\"\n",
    "DON'T MODIFY ANYTHING IN THIS CELL\n",
    "\"\"\"\n",
    "print('Checking the Training on a Single Batch...')\n",
    "with tf.Session() as sess:\n",
    "    # Initializing the variables\n",
    "    sess.run(tf.global_variables_initializer())\n",
    "    \n",
    "    # Training cycle\n",
    "    for epoch in range(epochs):\n",
    "        batch_i = 1\n",
    "        for batch_features, batch_labels in helper.load_preprocess_training_batch(batch_i, batch_size):\n",
    "            train_neural_network(sess, optimizer, keep_probability, batch_features, batch_labels)\n",
    "        print('Epoch {:>2}, CIFAR-10 Batch {}:  '.format(epoch + 1, batch_i), end='')\n",
    "        print_stats(sess, batch_features, batch_labels, cost, accuracy)"
   ]
  },
  {
   "cell_type": "markdown",
   "metadata": {},
   "source": [
    "### Fully Train the Model\n",
    "Now that you got a good accuracy with a single CIFAR-10 batch, try it with all five batches."
   ]
  },
  {
   "cell_type": "code",
   "execution_count": 17,
   "metadata": {},
   "outputs": [
    {
     "name": "stdout",
     "output_type": "stream",
     "text": [
      "Training...\n",
      "Epoch  1, CIFAR-10 Batch 1:  Loss: 2.2339,  Validation Accuracy: 0.2180\n",
      "Epoch  1, CIFAR-10 Batch 2:  Loss: 2.0408,  Validation Accuracy: 0.2824\n",
      "Epoch  1, CIFAR-10 Batch 3:  Loss: 1.8612,  Validation Accuracy: 0.3148\n",
      "Epoch  1, CIFAR-10 Batch 4:  Loss: 1.7680,  Validation Accuracy: 0.3524\n",
      "Epoch  1, CIFAR-10 Batch 5:  Loss: 1.7262,  Validation Accuracy: 0.3854\n",
      "Epoch  2, CIFAR-10 Batch 1:  Loss: 1.7481,  Validation Accuracy: 0.4018\n",
      "Epoch  2, CIFAR-10 Batch 2:  Loss: 1.6335,  Validation Accuracy: 0.4238\n",
      "Epoch  2, CIFAR-10 Batch 3:  Loss: 1.4810,  Validation Accuracy: 0.4448\n",
      "Epoch  2, CIFAR-10 Batch 4:  Loss: 1.4227,  Validation Accuracy: 0.4688\n",
      "Epoch  2, CIFAR-10 Batch 5:  Loss: 1.4802,  Validation Accuracy: 0.4690\n",
      "Epoch  3, CIFAR-10 Batch 1:  Loss: 1.5359,  Validation Accuracy: 0.4886\n",
      "Epoch  3, CIFAR-10 Batch 2:  Loss: 1.3885,  Validation Accuracy: 0.5008\n",
      "Epoch  3, CIFAR-10 Batch 3:  Loss: 1.2581,  Validation Accuracy: 0.5016\n",
      "Epoch  3, CIFAR-10 Batch 4:  Loss: 1.2306,  Validation Accuracy: 0.5262\n",
      "Epoch  3, CIFAR-10 Batch 5:  Loss: 1.2948,  Validation Accuracy: 0.5230\n",
      "Epoch  4, CIFAR-10 Batch 1:  Loss: 1.3706,  Validation Accuracy: 0.5338\n",
      "Epoch  4, CIFAR-10 Batch 2:  Loss: 1.2434,  Validation Accuracy: 0.5430\n",
      "Epoch  4, CIFAR-10 Batch 3:  Loss: 1.1385,  Validation Accuracy: 0.5316\n",
      "Epoch  4, CIFAR-10 Batch 4:  Loss: 1.1398,  Validation Accuracy: 0.5588\n",
      "Epoch  4, CIFAR-10 Batch 5:  Loss: 1.1467,  Validation Accuracy: 0.5652\n",
      "Epoch  5, CIFAR-10 Batch 1:  Loss: 1.2539,  Validation Accuracy: 0.5812\n",
      "Epoch  5, CIFAR-10 Batch 2:  Loss: 1.1093,  Validation Accuracy: 0.5868\n",
      "Epoch  5, CIFAR-10 Batch 3:  Loss: 1.0491,  Validation Accuracy: 0.5834\n",
      "Epoch  5, CIFAR-10 Batch 4:  Loss: 1.0104,  Validation Accuracy: 0.5902\n",
      "Epoch  5, CIFAR-10 Batch 5:  Loss: 1.0880,  Validation Accuracy: 0.5888\n",
      "Epoch  6, CIFAR-10 Batch 1:  Loss: 1.1262,  Validation Accuracy: 0.6124\n",
      "Epoch  6, CIFAR-10 Batch 2:  Loss: 1.0220,  Validation Accuracy: 0.6080\n",
      "Epoch  6, CIFAR-10 Batch 3:  Loss: 0.9944,  Validation Accuracy: 0.6042\n",
      "Epoch  6, CIFAR-10 Batch 4:  Loss: 0.9212,  Validation Accuracy: 0.6174\n",
      "Epoch  6, CIFAR-10 Batch 5:  Loss: 0.9628,  Validation Accuracy: 0.6230\n",
      "Epoch  7, CIFAR-10 Batch 1:  Loss: 1.0732,  Validation Accuracy: 0.6226\n",
      "Epoch  7, CIFAR-10 Batch 2:  Loss: 0.9584,  Validation Accuracy: 0.6200\n",
      "Epoch  7, CIFAR-10 Batch 3:  Loss: 0.9244,  Validation Accuracy: 0.6254\n",
      "Epoch  7, CIFAR-10 Batch 4:  Loss: 0.8320,  Validation Accuracy: 0.6420\n",
      "Epoch  7, CIFAR-10 Batch 5:  Loss: 0.9046,  Validation Accuracy: 0.6468\n",
      "Epoch  8, CIFAR-10 Batch 1:  Loss: 0.9982,  Validation Accuracy: 0.6428\n",
      "Epoch  8, CIFAR-10 Batch 2:  Loss: 0.8543,  Validation Accuracy: 0.6480\n",
      "Epoch  8, CIFAR-10 Batch 3:  Loss: 0.8085,  Validation Accuracy: 0.6462\n",
      "Epoch  8, CIFAR-10 Batch 4:  Loss: 0.7855,  Validation Accuracy: 0.6624\n",
      "Epoch  8, CIFAR-10 Batch 5:  Loss: 0.8438,  Validation Accuracy: 0.6586\n",
      "Epoch  9, CIFAR-10 Batch 1:  Loss: 0.9178,  Validation Accuracy: 0.6680\n",
      "Epoch  9, CIFAR-10 Batch 2:  Loss: 0.7649,  Validation Accuracy: 0.6676\n",
      "Epoch  9, CIFAR-10 Batch 3:  Loss: 0.7716,  Validation Accuracy: 0.6658\n",
      "Epoch  9, CIFAR-10 Batch 4:  Loss: 0.7234,  Validation Accuracy: 0.6726\n",
      "Epoch  9, CIFAR-10 Batch 5:  Loss: 0.7785,  Validation Accuracy: 0.6752\n",
      "Epoch 10, CIFAR-10 Batch 1:  Loss: 0.8754,  Validation Accuracy: 0.6764\n",
      "Epoch 10, CIFAR-10 Batch 2:  Loss: 0.6953,  Validation Accuracy: 0.6854\n",
      "Epoch 10, CIFAR-10 Batch 3:  Loss: 0.7235,  Validation Accuracy: 0.6768\n",
      "Epoch 10, CIFAR-10 Batch 4:  Loss: 0.6655,  Validation Accuracy: 0.6784\n",
      "Epoch 10, CIFAR-10 Batch 5:  Loss: 0.7486,  Validation Accuracy: 0.6818\n",
      "Epoch 11, CIFAR-10 Batch 1:  Loss: 0.8189,  Validation Accuracy: 0.6894\n",
      "Epoch 11, CIFAR-10 Batch 2:  Loss: 0.6975,  Validation Accuracy: 0.6862\n",
      "Epoch 11, CIFAR-10 Batch 3:  Loss: 0.6572,  Validation Accuracy: 0.6742\n",
      "Epoch 11, CIFAR-10 Batch 4:  Loss: 0.6162,  Validation Accuracy: 0.6810\n",
      "Epoch 11, CIFAR-10 Batch 5:  Loss: 0.6775,  Validation Accuracy: 0.7036\n",
      "Epoch 12, CIFAR-10 Batch 1:  Loss: 0.7790,  Validation Accuracy: 0.6976\n",
      "Epoch 12, CIFAR-10 Batch 2:  Loss: 0.6633,  Validation Accuracy: 0.6918\n",
      "Epoch 12, CIFAR-10 Batch 3:  Loss: 0.6212,  Validation Accuracy: 0.6980\n",
      "Epoch 12, CIFAR-10 Batch 4:  Loss: 0.5825,  Validation Accuracy: 0.7056\n",
      "Epoch 12, CIFAR-10 Batch 5:  Loss: 0.6484,  Validation Accuracy: 0.6986\n",
      "Epoch 13, CIFAR-10 Batch 1:  Loss: 0.6999,  Validation Accuracy: 0.7058\n",
      "Epoch 13, CIFAR-10 Batch 2:  Loss: 0.6219,  Validation Accuracy: 0.7010\n",
      "Epoch 13, CIFAR-10 Batch 3:  Loss: 0.5649,  Validation Accuracy: 0.7126\n",
      "Epoch 13, CIFAR-10 Batch 4:  Loss: 0.5389,  Validation Accuracy: 0.7088\n",
      "Epoch 13, CIFAR-10 Batch 5:  Loss: 0.6233,  Validation Accuracy: 0.7116\n",
      "Epoch 14, CIFAR-10 Batch 1:  Loss: 0.6851,  Validation Accuracy: 0.7106\n",
      "Epoch 14, CIFAR-10 Batch 2:  Loss: 0.5498,  Validation Accuracy: 0.7166\n",
      "Epoch 14, CIFAR-10 Batch 3:  Loss: 0.5368,  Validation Accuracy: 0.7114\n",
      "Epoch 14, CIFAR-10 Batch 4:  Loss: 0.4958,  Validation Accuracy: 0.7074\n",
      "Epoch 14, CIFAR-10 Batch 5:  Loss: 0.5829,  Validation Accuracy: 0.7126\n",
      "Epoch 15, CIFAR-10 Batch 1:  Loss: 0.6841,  Validation Accuracy: 0.7088\n",
      "Epoch 15, CIFAR-10 Batch 2:  Loss: 0.5358,  Validation Accuracy: 0.7192\n",
      "Epoch 15, CIFAR-10 Batch 3:  Loss: 0.5082,  Validation Accuracy: 0.7186\n",
      "Epoch 15, CIFAR-10 Batch 4:  Loss: 0.5087,  Validation Accuracy: 0.7186\n",
      "Epoch 15, CIFAR-10 Batch 5:  Loss: 0.5480,  Validation Accuracy: 0.7230\n",
      "Epoch 16, CIFAR-10 Batch 1:  Loss: 0.6404,  Validation Accuracy: 0.7166\n",
      "Epoch 16, CIFAR-10 Batch 2:  Loss: 0.4965,  Validation Accuracy: 0.7222\n",
      "Epoch 16, CIFAR-10 Batch 3:  Loss: 0.4912,  Validation Accuracy: 0.7102\n",
      "Epoch 16, CIFAR-10 Batch 4:  Loss: 0.4588,  Validation Accuracy: 0.7282\n",
      "Epoch 16, CIFAR-10 Batch 5:  Loss: 0.5140,  Validation Accuracy: 0.7288\n",
      "Epoch 17, CIFAR-10 Batch 1:  Loss: 0.5984,  Validation Accuracy: 0.7264\n",
      "Epoch 17, CIFAR-10 Batch 2:  Loss: 0.4630,  Validation Accuracy: 0.7378\n",
      "Epoch 17, CIFAR-10 Batch 3:  Loss: 0.4503,  Validation Accuracy: 0.7240\n",
      "Epoch 17, CIFAR-10 Batch 4:  Loss: 0.4110,  Validation Accuracy: 0.7352\n",
      "Epoch 17, CIFAR-10 Batch 5:  Loss: 0.4805,  Validation Accuracy: 0.7432\n",
      "Epoch 18, CIFAR-10 Batch 1:  Loss: 0.5187,  Validation Accuracy: 0.7356\n",
      "Epoch 18, CIFAR-10 Batch 2:  Loss: 0.4668,  Validation Accuracy: 0.7344\n",
      "Epoch 18, CIFAR-10 Batch 3:  Loss: 0.4627,  Validation Accuracy: 0.7230\n",
      "Epoch 18, CIFAR-10 Batch 4:  Loss: 0.4044,  Validation Accuracy: 0.7428\n",
      "Epoch 18, CIFAR-10 Batch 5:  Loss: 0.4408,  Validation Accuracy: 0.7432\n",
      "Epoch 19, CIFAR-10 Batch 1:  Loss: 0.5101,  Validation Accuracy: 0.7378\n",
      "Epoch 19, CIFAR-10 Batch 2:  Loss: 0.4125,  Validation Accuracy: 0.7404\n",
      "Epoch 19, CIFAR-10 Batch 3:  Loss: 0.4215,  Validation Accuracy: 0.7366\n",
      "Epoch 19, CIFAR-10 Batch 4:  Loss: 0.3572,  Validation Accuracy: 0.7410\n",
      "Epoch 19, CIFAR-10 Batch 5:  Loss: 0.4119,  Validation Accuracy: 0.7468\n",
      "Epoch 20, CIFAR-10 Batch 1:  Loss: 0.4675,  Validation Accuracy: 0.7422\n",
      "Epoch 20, CIFAR-10 Batch 2:  Loss: 0.3943,  Validation Accuracy: 0.7398\n",
      "Epoch 20, CIFAR-10 Batch 3:  Loss: 0.3963,  Validation Accuracy: 0.7450\n",
      "Epoch 20, CIFAR-10 Batch 4:  Loss: 0.3543,  Validation Accuracy: 0.7422\n",
      "Epoch 20, CIFAR-10 Batch 5:  Loss: 0.3929,  Validation Accuracy: 0.7472\n",
      "Epoch 21, CIFAR-10 Batch 1:  Loss: 0.4673,  Validation Accuracy: 0.7418\n",
      "Epoch 21, CIFAR-10 Batch 2:  Loss: 0.3889,  Validation Accuracy: 0.7546\n",
      "Epoch 21, CIFAR-10 Batch 3:  Loss: 0.3773,  Validation Accuracy: 0.7472\n",
      "Epoch 21, CIFAR-10 Batch 4:  Loss: 0.3330,  Validation Accuracy: 0.7460\n",
      "Epoch 21, CIFAR-10 Batch 5:  Loss: 0.3549,  Validation Accuracy: 0.7524\n",
      "Epoch 22, CIFAR-10 Batch 1:  Loss: 0.4752,  Validation Accuracy: 0.7412\n",
      "Epoch 22, CIFAR-10 Batch 2:  Loss: 0.3929,  Validation Accuracy: 0.7470\n",
      "Epoch 22, CIFAR-10 Batch 3:  Loss: 0.3622,  Validation Accuracy: 0.7434\n",
      "Epoch 22, CIFAR-10 Batch 4:  Loss: 0.3173,  Validation Accuracy: 0.7488\n",
      "Epoch 22, CIFAR-10 Batch 5:  Loss: 0.3539,  Validation Accuracy: 0.7508\n",
      "Epoch 23, CIFAR-10 Batch 1:  Loss: 0.4224,  Validation Accuracy: 0.7482\n",
      "Epoch 23, CIFAR-10 Batch 2:  Loss: 0.3430,  Validation Accuracy: 0.7538\n",
      "Epoch 23, CIFAR-10 Batch 3:  Loss: 0.3313,  Validation Accuracy: 0.7472\n"
     ]
    },
    {
     "name": "stdout",
     "output_type": "stream",
     "text": [
      "Epoch 23, CIFAR-10 Batch 4:  Loss: 0.2996,  Validation Accuracy: 0.7516\n",
      "Epoch 23, CIFAR-10 Batch 5:  Loss: 0.3244,  Validation Accuracy: 0.7450\n",
      "Epoch 24, CIFAR-10 Batch 1:  Loss: 0.4113,  Validation Accuracy: 0.7452\n",
      "Epoch 24, CIFAR-10 Batch 2:  Loss: 0.3181,  Validation Accuracy: 0.7640\n",
      "Epoch 24, CIFAR-10 Batch 3:  Loss: 0.3133,  Validation Accuracy: 0.7548\n",
      "Epoch 24, CIFAR-10 Batch 4:  Loss: 0.2698,  Validation Accuracy: 0.7552\n",
      "Epoch 24, CIFAR-10 Batch 5:  Loss: 0.3220,  Validation Accuracy: 0.7454\n",
      "Epoch 25, CIFAR-10 Batch 1:  Loss: 0.3959,  Validation Accuracy: 0.7510\n",
      "Epoch 25, CIFAR-10 Batch 2:  Loss: 0.3348,  Validation Accuracy: 0.7594\n",
      "Epoch 25, CIFAR-10 Batch 3:  Loss: 0.2995,  Validation Accuracy: 0.7576\n",
      "Epoch 25, CIFAR-10 Batch 4:  Loss: 0.2418,  Validation Accuracy: 0.7594\n",
      "Epoch 25, CIFAR-10 Batch 5:  Loss: 0.2983,  Validation Accuracy: 0.7544\n",
      "Epoch 26, CIFAR-10 Batch 1:  Loss: 0.3798,  Validation Accuracy: 0.7598\n",
      "Epoch 26, CIFAR-10 Batch 2:  Loss: 0.3075,  Validation Accuracy: 0.7522\n",
      "Epoch 26, CIFAR-10 Batch 3:  Loss: 0.2989,  Validation Accuracy: 0.7576\n",
      "Epoch 26, CIFAR-10 Batch 4:  Loss: 0.2459,  Validation Accuracy: 0.7614\n",
      "Epoch 26, CIFAR-10 Batch 5:  Loss: 0.2603,  Validation Accuracy: 0.7708\n",
      "Epoch 27, CIFAR-10 Batch 1:  Loss: 0.3199,  Validation Accuracy: 0.7562\n",
      "Epoch 27, CIFAR-10 Batch 2:  Loss: 0.3054,  Validation Accuracy: 0.7590\n",
      "Epoch 27, CIFAR-10 Batch 3:  Loss: 0.2782,  Validation Accuracy: 0.7486\n",
      "Epoch 27, CIFAR-10 Batch 4:  Loss: 0.2310,  Validation Accuracy: 0.7586\n",
      "Epoch 27, CIFAR-10 Batch 5:  Loss: 0.2617,  Validation Accuracy: 0.7622\n",
      "Epoch 28, CIFAR-10 Batch 1:  Loss: 0.2999,  Validation Accuracy: 0.7650\n",
      "Epoch 28, CIFAR-10 Batch 2:  Loss: 0.2548,  Validation Accuracy: 0.7576\n",
      "Epoch 28, CIFAR-10 Batch 3:  Loss: 0.2698,  Validation Accuracy: 0.7488\n",
      "Epoch 28, CIFAR-10 Batch 4:  Loss: 0.2133,  Validation Accuracy: 0.7658\n",
      "Epoch 28, CIFAR-10 Batch 5:  Loss: 0.2241,  Validation Accuracy: 0.7676\n",
      "Epoch 29, CIFAR-10 Batch 1:  Loss: 0.2717,  Validation Accuracy: 0.7694\n",
      "Epoch 29, CIFAR-10 Batch 2:  Loss: 0.2564,  Validation Accuracy: 0.7630\n",
      "Epoch 29, CIFAR-10 Batch 3:  Loss: 0.2430,  Validation Accuracy: 0.7564\n",
      "Epoch 29, CIFAR-10 Batch 4:  Loss: 0.1941,  Validation Accuracy: 0.7666\n",
      "Epoch 29, CIFAR-10 Batch 5:  Loss: 0.2363,  Validation Accuracy: 0.7664\n",
      "Epoch 30, CIFAR-10 Batch 1:  Loss: 0.2747,  Validation Accuracy: 0.7638\n",
      "Epoch 30, CIFAR-10 Batch 2:  Loss: 0.2359,  Validation Accuracy: 0.7734\n",
      "Epoch 30, CIFAR-10 Batch 3:  Loss: 0.2259,  Validation Accuracy: 0.7674\n",
      "Epoch 30, CIFAR-10 Batch 4:  Loss: 0.1850,  Validation Accuracy: 0.7724\n",
      "Epoch 30, CIFAR-10 Batch 5:  Loss: 0.2027,  Validation Accuracy: 0.7696\n"
     ]
    }
   ],
   "source": [
    "\"\"\"\n",
    "DON'T MODIFY ANYTHING IN THIS CELL\n",
    "\"\"\"\n",
    "save_model_path = './image_classification'\n",
    "\n",
    "print('Training...')\n",
    "with tf.Session() as sess:\n",
    "    # Initializing the variables\n",
    "    sess.run(tf.global_variables_initializer())\n",
    "    \n",
    "    # Training cycle\n",
    "    for epoch in range(epochs):\n",
    "        # Loop over all batches\n",
    "        n_batches = 5\n",
    "        for batch_i in range(1, n_batches + 1):\n",
    "            for batch_features, batch_labels in helper.load_preprocess_training_batch(batch_i, batch_size):\n",
    "                train_neural_network(sess, optimizer, keep_probability, batch_features, batch_labels)\n",
    "            print('Epoch {:>2}, CIFAR-10 Batch {}:  '.format(epoch + 1, batch_i), end='')\n",
    "            print_stats(sess, batch_features, batch_labels, cost, accuracy)\n",
    "            \n",
    "    # Save Model\n",
    "    saver = tf.train.Saver()\n",
    "    save_path = saver.save(sess, save_model_path)"
   ]
  },
  {
   "cell_type": "markdown",
   "metadata": {},
   "source": [
    "# Checkpoint\n",
    "The model has been saved to disk.\n",
    "## Test Model\n",
    "Test your model against the test dataset.  This will be your final accuracy. You should have an accuracy greater than 50%. If you don't, keep tweaking the model architecture and parameters."
   ]
  },
  {
   "cell_type": "code",
   "execution_count": 18,
   "metadata": {},
   "outputs": [
    {
     "name": "stdout",
     "output_type": "stream",
     "text": [
      "INFO:tensorflow:Restoring parameters from ./image_classification\n",
      "Testing Accuracy: 0.7576631426811218\n",
      "\n"
     ]
    },
    {
     "data": {
      "image/png": "[encoded data removed]",
      "text/plain": [
       "<Figure size 432x288 with 8 Axes>"
      ]
     },
     "metadata": {
      "image/png": {
       "height": 319,
       "width": 355
      },
      "needs_background": "light"
     },
     "output_type": "display_data"
    }
   ],
   "source": [
    "\"\"\"\n",
    "DON'T MODIFY ANYTHING IN THIS CELL\n",
    "\"\"\"\n",
    "%matplotlib inline\n",
    "%config InlineBackend.figure_format = 'retina'\n",
    "\n",
    "import tensorflow as tf\n",
    "import pickle\n",
    "import helper\n",
    "import random\n",
    "\n",
    "# Set batch size if not already set\n",
    "try:\n",
    "    if batch_size:\n",
    "        pass\n",
    "except NameError:\n",
    "    batch_size = 64\n",
    "\n",
    "save_model_path = './image_classification'\n",
    "n_samples = 4\n",
    "top_n_predictions = 3\n",
    "\n",
    "def test_model():\n",
    "    \"\"\"\n",
    "    Test the saved model against the test dataset\n",
    "    \"\"\"\n",
    "\n",
    "    test_features, test_labels = pickle.load(open('preprocess_training.p', mode='rb'))\n",
    "    loaded_graph = tf.Graph()\n",
    "\n",
    "    with tf.Session(graph=loaded_graph) as sess:\n",
    "        # Load model\n",
    "        loader = tf.train.import_meta_graph(save_model_path + '.meta')\n",
    "        loader.restore(sess, save_model_path)\n",
    "\n",
    "        # Get Tensors from loaded model\n",
    "        loaded_x = loaded_graph.get_tensor_by_name('x:0')\n",
    "        loaded_y = loaded_graph.get_tensor_by_name('y:0')\n",
    "        loaded_keep_prob = loaded_graph.get_tensor_by_name('keep_prob:0')\n",
    "        loaded_logits = loaded_graph.get_tensor_by_name('logits:0')\n",
    "        loaded_acc = loaded_graph.get_tensor_by_name('accuracy:0')\n",
    "        \n",
    "        # Get accuracy in batches for memory limitations\n",
    "        test_batch_acc_total = 0\n",
    "        test_batch_count = 0\n",
    "        \n",
    "        for train_feature_batch, train_label_batch in helper.batch_features_labels(test_features, test_labels, batch_size):\n",
    "            test_batch_acc_total += sess.run(\n",
    "                loaded_acc,\n",
    "                feed_dict={loaded_x: train_feature_batch, loaded_y: train_label_batch, loaded_keep_prob: 1.0})\n",
    "            test_batch_count += 1\n",
    "\n",
    "        print('Testing Accuracy: {}\\n'.format(test_batch_acc_total/test_batch_count))\n",
    "\n",
    "        # Print Random Samples\n",
    "        random_test_features, random_test_labels = tuple(zip(*random.sample(list(zip(test_features, test_labels)), n_samples)))\n",
    "        random_test_predictions = sess.run(\n",
    "            tf.nn.top_k(tf.nn.softmax(loaded_logits), top_n_predictions),\n",
    "            feed_dict={loaded_x: random_test_features, loaded_y: random_test_labels, loaded_keep_prob: 1.0})\n",
    "        helper.display_image_predictions(random_test_features, random_test_labels, random_test_predictions)\n",
    "\n",
    "\n",
    "test_model()"
   ]
  },
  {
   "cell_type": "markdown",
   "metadata": {},
   "source": [
    "## Why 50-80% Accuracy?\n",
    "You might be wondering why you can't get an accuracy any higher. First things first, 50% isn't bad for a simple CNN.  Pure guessing would get you 10% accuracy. That's because there are many more techniques that can be applied to your model and we recemmond that once you are done with this project, you explore!\n",
    "\n",
    "## Submitting This Project\n",
    "When submitting this project, make sure to run all the cells before saving the notebook.  Save the notebook file as \"image_classification.ipynb\" and save it as a HTML file under \"File\" -> \"Download as\".  Include the \"helper.py\" and \"problem_unittests.py\" files in your submission."
   ]
  }
 ],
 "metadata": {
  "kernelspec": {
   "display_name": "python36",
   "language": "python",
   "name": "python36"
  },
  "language_info": {
   "codemirror_mode": {
    "name": "ipython",
    "version": 3
   },
   "file_extension": ".py",
   "mimetype": "text/x-python",
   "name": "python",
   "nbconvert_exporter": "python",
   "pygments_lexer": "ipython3",
   "version": "3.6.6"
  }
 },
 "nbformat": 4,
 "nbformat_minor": 1
}
